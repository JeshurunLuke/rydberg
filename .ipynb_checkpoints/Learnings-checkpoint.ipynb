{
 "cells": [
  {
   "cell_type": "code",
   "execution_count": 9,
   "id": "7ce3ff3b-6494-4a07-94ea-3096b3af0afa",
   "metadata": {},
   "outputs": [],
   "source": [
    "from functools import lru_cache\n",
    "class Test:\n",
    "    def __init__(self): \n",
    "        print(\"initiate\")\n",
    "    @property\n",
    "    @lru_cache(maxsize=None)\n",
    "    def calc(self):\n",
    "        print(\"Calculating\")\n",
    "        return 1\n"
   ]
  },
  {
   "cell_type": "code",
   "execution_count": 11,
   "id": "f2810124-1600-4cf2-bd29-2330e51103b0",
   "metadata": {},
   "outputs": [
    {
     "data": {
      "text/plain": [
       "<property at 0x1062c4310>"
      ]
     },
     "execution_count": 11,
     "metadata": {},
     "output_type": "execute_result"
    }
   ],
   "source": [
    "Test.calc"
   ]
  },
  {
   "cell_type": "code",
   "execution_count": 8,
   "id": "94c14582-7482-4bcd-b151-d57f9ce7ac28",
   "metadata": {},
   "outputs": [
    {
     "data": {
      "text/plain": [
       "42"
      ]
     },
     "execution_count": 8,
     "metadata": {},
     "output_type": "execute_result"
    }
   ],
   "source": [
    "MyClass.foo"
   ]
  }
 ],
 "metadata": {
  "kernelspec": {
   "display_name": "Python 3 (ipykernel)",
   "language": "python",
   "name": "python3"
  },
  "language_info": {
   "codemirror_mode": {
    "name": "ipython",
    "version": 3
   },
   "file_extension": ".py",
   "mimetype": "text/x-python",
   "name": "python",
   "nbconvert_exporter": "python",
   "pygments_lexer": "ipython3",
   "version": "3.11.9"
  }
 },
 "nbformat": 4,
 "nbformat_minor": 5
}
