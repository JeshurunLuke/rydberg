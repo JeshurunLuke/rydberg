{
 "cells": [
  {
   "cell_type": "code",
   "execution_count": 44,
   "id": "7ce3ff3b-6494-4a07-94ea-3096b3af0afa",
   "metadata": {},
   "outputs": [
    {
     "name": "stdout",
     "output_type": "stream",
     "text": [
      "initiate\n",
      "Long Calculation\n",
      "2\n"
     ]
    },
    {
     "ename": "TypeError",
     "evalue": "Test.calc() missing 1 required positional argument: 'val3'",
     "output_type": "error",
     "traceback": [
      "\u001b[0;31m---------------------------------------------------------------------------\u001b[0m",
      "\u001b[0;31mTypeError\u001b[0m                                 Traceback (most recent call last)",
      "Cell \u001b[0;32mIn[44], line 23\u001b[0m\n\u001b[1;32m     21\u001b[0m a \u001b[38;5;241m=\u001b[39m Test()\n\u001b[1;32m     22\u001b[0m \u001b[38;5;28mprint\u001b[39m(a\u001b[38;5;241m.\u001b[39mcalc(\u001b[38;5;241m1\u001b[39m, \u001b[38;5;28;01mTrue\u001b[39;00m))   \u001b[38;5;66;03m# Will print \"Long Calculation\" and \"2\"\u001b[39;00m\n\u001b[0;32m---> 23\u001b[0m \u001b[38;5;28mprint\u001b[39m(\u001b[43ma\u001b[49m\u001b[38;5;241;43m.\u001b[39;49m\u001b[43mcalc\u001b[49m\u001b[43m(\u001b[49m\u001b[38;5;241;43m1\u001b[39;49m\u001b[43m)\u001b[49m)   \u001b[38;5;66;03m# Uses cache, prints only \"2\"\u001b[39;00m\n\u001b[1;32m     25\u001b[0m b \u001b[38;5;241m=\u001b[39m Test()\n\u001b[1;32m     26\u001b[0m \u001b[38;5;28mprint\u001b[39m(b\u001b[38;5;241m.\u001b[39mcalc(\u001b[38;5;241m1\u001b[39m))   \u001b[38;5;66;03m# Uses cache from 'a', prints only \"2\"\u001b[39;00m\n",
      "\u001b[0;31mTypeError\u001b[0m: Test.calc() missing 1 required positional argument: 'val3'"
     ]
    }
   ],
   "source": [
    "from functools import lru_cache\n",
    "import numpy as np\n",
    "class Test:\n",
    "    # Shared cache for all instances\n",
    "    _cache = {}\n",
    "\n",
    "    def __init__(self):\n",
    "        print(\"initiate\")\n",
    "\n",
    "    def calc(self, val, val3):\n",
    "        # Check if the result is already in the cache\n",
    "        if (self.__class__, val, val3) not in Test._cache:\n",
    "            print(\"Long Calculation\")\n",
    "            # The method can use 'self' here as needed\n",
    "            Test._cache[(self.__class__, val)] = self._perform_calc(val)\n",
    "        return Test._cache[(self.__class__, val)]\n",
    "\n",
    "    def _perform_calc(self, val):\n",
    "        return val + 1\n",
    "\n",
    "a = Test()\n",
    "print(a.calc(1, True))   # Will print \"Long Calculation\" and \"2\"\n",
    "print(a.calc(1))   # Uses cache, prints only \"2\"\n",
    "\n",
    "b = Test()\n",
    "print(b.calc(1))   # Uses cache from 'a', prints only \"2\"\n"
   ]
  },
  {
   "cell_type": "code",
   "execution_count": 41,
   "id": "f2810124-1600-4cf2-bd29-2330e51103b0",
   "metadata": {},
   "outputs": [
    {
     "name": "stdout",
     "output_type": "stream",
     "text": [
      "initiate\n"
     ]
    },
    {
     "data": {
      "text/plain": [
       "2"
      ]
     },
     "execution_count": 41,
     "metadata": {},
     "output_type": "execute_result"
    }
   ],
   "source": [
    "b = Test()\n",
    "b.calc(1)"
   ]
  },
  {
   "cell_type": "code",
   "execution_count": 52,
   "id": "94c14582-7482-4bcd-b151-d57f9ce7ac28",
   "metadata": {},
   "outputs": [],
   "source": [
    "import numpy as np\n",
    "g = np.array([[1, 2], [2, 4]])\n",
    "h = np.array([[4, 5], [5, 7]])\n",
    "var = np.linspace(0, 1, 3)\n",
    "\n",
    "eigval, eigvec = np.linalg.eigh([g + var_i*h for var_i in var])\n"
   ]
  },
  {
   "cell_type": "code",
   "execution_count": 57,
   "id": "496c928e-4502-4edb-a13c-c1776e3befb6",
   "metadata": {},
   "outputs": [
    {
     "name": "stdout",
     "output_type": "stream",
     "text": [
      "[0. 5.]\n",
      "[[-0.89442719  0.4472136 ]\n",
      " [ 0.4472136   0.89442719]]\n",
      "[ 0.21884705 10.28115295]\n",
      "[[-0.85065081  0.52573111]\n",
      " [ 0.52573111  0.85065081]]\n",
      "[ 0.38422689 15.61577311]\n",
      "[[-0.83484109  0.55049101]\n",
      " [ 0.55049101  0.83484109]]\n"
     ]
    }
   ],
   "source": [
    "for indOI in range(0, len(var)): \n",
    "    print(eigval[indOI])\n",
    "    print(eigvec[indOI])"
   ]
  }
 ],
 "metadata": {
  "kernelspec": {
   "display_name": "Python 3 (ipykernel)",
   "language": "python",
   "name": "python3"
  },
  "language_info": {
   "codemirror_mode": {
    "name": "ipython",
    "version": 3
   },
   "file_extension": ".py",
   "mimetype": "text/x-python",
   "name": "python",
   "nbconvert_exporter": "python",
   "pygments_lexer": "ipython3",
   "version": "3.11.9"
  }
 },
 "nbformat": 4,
 "nbformat_minor": 5
}
